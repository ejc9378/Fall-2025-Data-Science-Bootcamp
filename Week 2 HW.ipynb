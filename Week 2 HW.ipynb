{
 "cells": [
  {
   "cell_type": "code",
   "execution_count": null,
   "id": "8bec0411",
   "metadata": {},
   "outputs": [],
   "source": [
    "import numpy as np\n",
    "import pandas as pd"
   ]
  },
  {
   "cell_type": "markdown",
   "id": "4e25718c",
   "metadata": {},
   "source": [
    "## Practice Questions for numpy\n",
    "1. Define two custom numpy arrays, say A and B. Generate two new numpy arrays by stacking A and B vertically and horizontally."
   ]
  },
  {
   "cell_type": "code",
   "execution_count": 17,
   "id": "308e8a61",
   "metadata": {},
   "outputs": [
    {
     "name": "stdout",
     "output_type": "stream",
     "text": [
      "[0. 3. 6.]\n",
      "[0. 0. 0.]\n",
      "[[0. 3. 6.]\n",
      " [0. 0. 0.]]\n",
      "[0. 3. 6. 0. 0. 0.]\n"
     ]
    }
   ],
   "source": [
    "A = np.linspace(0,6,3)\n",
    "print(A)\n",
    "B = np.zeros(3)\n",
    "print(B)\n",
    "V = np.vstack((A,B))\n",
    "print(V)\n",
    "H = np.hstack((A,B))\n",
    "print(H)"
   ]
  },
  {
   "cell_type": "markdown",
   "id": "7e948594",
   "metadata": {},
   "source": [
    "2. Find common elements between A and B. [Hint : Intersection of two sets]"
   ]
  },
  {
   "cell_type": "code",
   "execution_count": 7,
   "id": "7b4a75c5",
   "metadata": {},
   "outputs": [
    {
     "name": "stdout",
     "output_type": "stream",
     "text": [
      "[0.]\n"
     ]
    }
   ],
   "source": [
    "print(np.intersect1d(A, B))"
   ]
  },
  {
   "cell_type": "markdown",
   "id": "224d3aeb",
   "metadata": {},
   "source": [
    "3. Extract all numbers from A which are within a specific range. eg between 5 and 10. [Hint: np.where() might be useful or boolean masks]"
   ]
  },
  {
   "cell_type": "code",
   "execution_count": 13,
   "id": "75c22edc",
   "metadata": {},
   "outputs": [
    {
     "name": "stdout",
     "output_type": "stream",
     "text": [
      "[0. 3.]\n"
     ]
    }
   ],
   "source": [
    "def withinRange(arr, low, high):\n",
    "    return(A[(A>=low)&(A<=high)])\n",
    "\n",
    "print(withinRange(A,0,4))"
   ]
  },
  {
   "cell_type": "markdown",
   "id": "f4ef8620",
   "metadata": {},
   "source": [
    "4. Filter the rows of iris_2d that has petallength (3rd column) > 1.5 and sepallength (1st column) < 5.0"
   ]
  },
  {
   "cell_type": "code",
   "execution_count": null,
   "id": "1d5c84f4",
   "metadata": {},
   "outputs": [
    {
     "name": "stdout",
     "output_type": "stream",
     "text": [
      "[[6.3 3.3 4.7 1.6]\n",
      " [5.9 3.2 4.8 1.8]\n",
      " [6.7 3.  5.  1.7]\n",
      " [6.  2.7 5.1 1.6]\n",
      " [6.  3.4 4.5 1.6]\n",
      " [6.3 3.3 6.  2.5]\n",
      " [5.8 2.7 5.1 1.9]\n",
      " [7.1 3.  5.9 2.1]\n",
      " [6.3 2.9 5.6 1.8]\n",
      " [6.5 3.  5.8 2.2]\n",
      " [7.6 3.  6.6 2.1]\n",
      " [4.9 2.5 4.5 1.7]\n",
      " [7.3 2.9 6.3 1.8]\n",
      " [6.7 2.5 5.8 1.8]\n",
      " [7.2 3.6 6.1 2.5]\n",
      " [6.5 3.2 5.1 2. ]\n",
      " [6.4 2.7 5.3 1.9]\n",
      " [6.8 3.  5.5 2.1]\n",
      " [5.7 2.5 5.  2. ]\n",
      " [5.8 2.8 5.1 2.4]\n",
      " [6.4 3.2 5.3 2.3]\n",
      " [6.5 3.  5.5 1.8]\n",
      " [7.7 3.8 6.7 2.2]\n",
      " [7.7 2.6 6.9 2.3]\n",
      " [6.9 3.2 5.7 2.3]\n",
      " [5.6 2.8 4.9 2. ]\n",
      " [7.7 2.8 6.7 2. ]\n",
      " [6.3 2.7 4.9 1.8]\n",
      " [6.7 3.3 5.7 2.1]\n",
      " [7.2 3.2 6.  1.8]\n",
      " [6.2 2.8 4.8 1.8]\n",
      " [6.1 3.  4.9 1.8]\n",
      " [6.4 2.8 5.6 2.1]\n",
      " [7.2 3.  5.8 1.6]\n",
      " [7.4 2.8 6.1 1.9]\n",
      " [7.9 3.8 6.4 2. ]\n",
      " [6.4 2.8 5.6 2.2]\n",
      " [7.7 3.  6.1 2.3]\n",
      " [6.3 3.4 5.6 2.4]\n",
      " [6.4 3.1 5.5 1.8]\n",
      " [6.  3.  4.8 1.8]\n",
      " [6.9 3.1 5.4 2.1]\n",
      " [6.7 3.1 5.6 2.4]\n",
      " [6.9 3.1 5.1 2.3]\n",
      " [5.8 2.7 5.1 1.9]\n",
      " [6.8 3.2 5.9 2.3]\n",
      " [6.7 3.3 5.7 2.5]\n",
      " [6.7 3.  5.2 2.3]\n",
      " [6.3 2.5 5.  1.9]\n",
      " [6.5 3.  5.2 2. ]\n",
      " [6.2 3.4 5.4 2.3]\n",
      " [5.9 3.  5.1 1.8]]\n"
     ]
    }
   ],
   "source": [
    "url = 'https://archive.ics.uci.edu/ml/machine-learning-databases/iris/iris.data'\n",
    "iris_2d = np.genfromtxt(url, delimiter=',', dtype='float', usecols=[0,1,2,3])\n",
    "#print(iris_2d.shape)\n",
    "def filter(arr):\n",
    "    return(arr[(arr[:,2] > 1.5) & (arr[:,0] < 5.0)])\n",
    "\n",
    "print(filter(iris_2d))\n"
   ]
  },
  {
   "cell_type": "markdown",
   "id": "c9dd77c4",
   "metadata": {},
   "source": [
    "## Practice Questions for Pandas\n",
    "\n",
    "1. From df filter the 'Manufacturer', 'Model' and 'Type' for every 20th row starting from 1st (row 0).\n",
    "\n",
    "```\n",
    "df = pd.read_csv('https://raw.githubusercontent.com/selva86/datasets/master/Cars93_miss.csv')\n",
    "```"
   ]
  },
  {
   "cell_type": "code",
   "execution_count": null,
   "id": "d173d32c",
   "metadata": {},
   "outputs": [],
   "source": []
  },
  {
   "cell_type": "markdown",
   "id": "a6f1eeeb",
   "metadata": {},
   "source": [
    "2. Replace missing values in Min.Price and Max.Price columns with their respective mean.\n",
    "\n",
    "```\n",
    "df = pd.read_csv('https://raw.githubusercontent.com/selva86/datasets/master/Cars93_miss.csv')\n",
    "```"
   ]
  },
  {
   "cell_type": "code",
   "execution_count": null,
   "id": "e65ccd0c",
   "metadata": {},
   "outputs": [],
   "source": []
  },
  {
   "cell_type": "markdown",
   "id": "d874e1c8",
   "metadata": {},
   "source": [
    "3. How to get the rows of a dataframe with row sum > 100?\n",
    "\n",
    "```\n",
    "df = pd.DataFrame(np.random.randint(10, 40, 60).reshape(-1, 4))\n",
    "```"
   ]
  },
  {
   "cell_type": "code",
   "execution_count": null,
   "id": "489a9e3e",
   "metadata": {},
   "outputs": [],
   "source": []
  }
 ],
 "metadata": {
  "kernelspec": {
   "display_name": "Python 3",
   "language": "python",
   "name": "python3"
  },
  "language_info": {
   "codemirror_mode": {
    "name": "ipython",
    "version": 3
   },
   "file_extension": ".py",
   "mimetype": "text/x-python",
   "name": "python",
   "nbconvert_exporter": "python",
   "pygments_lexer": "ipython3",
   "version": "3.11.9"
  }
 },
 "nbformat": 4,
 "nbformat_minor": 5
}

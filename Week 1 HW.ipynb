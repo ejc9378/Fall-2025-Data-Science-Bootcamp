{
 "cells": [
  {
   "cell_type": "markdown",
   "id": "2c2c115f",
   "metadata": {},
   "source": [
    "## Take home exercises\n",
    "\n",
    "1. Write a program that takes a word as an input and print the number of vowels in the word."
   ]
  },
  {
   "cell_type": "code",
   "execution_count": 33,
   "id": "6911be82",
   "metadata": {},
   "outputs": [
    {
     "name": "stdout",
     "output_type": "stream",
     "text": [
      "5\n"
     ]
    }
   ],
   "source": [
    "def numVowels(word):\n",
    "    n = 0\n",
    "    vowels = \"aeiouAEIOU\"\n",
    "    for x in word:\n",
    "        if x in vowels:\n",
    "            n+=1\n",
    "    print(n)\n",
    "\n",
    "numVowels(\"DeliciOUs\")"
   ]
  },
  {
   "cell_type": "markdown",
   "id": "9b25e188",
   "metadata": {},
   "source": [
    "2. Iterate through the following list of animals and print each one in all caps.\n"
   ]
  },
  {
   "cell_type": "code",
   "execution_count": 34,
   "id": "13a210cc",
   "metadata": {},
   "outputs": [
    {
     "name": "stdout",
     "output_type": "stream",
     "text": [
      "TIGER\n",
      "ELEPHANT\n",
      "MONKEY\n",
      "ZEBRA\n",
      "PANTHER\n"
     ]
    }
   ],
   "source": [
    "animals=['tiger', 'elephant', 'monkey', 'zebra', 'panther']\n",
    "for animal in animals:\n",
    "    print(animal.upper())"
   ]
  },
  {
   "cell_type": "markdown",
   "id": "b34b7c3b",
   "metadata": {},
   "source": [
    "3. Write a program that iterates from 1 to 20, printing each number and whether it's odd or even."
   ]
  },
  {
   "cell_type": "code",
   "execution_count": null,
   "id": "8462bb60",
   "metadata": {},
   "outputs": [
    {
     "name": "stdout",
     "output_type": "stream",
     "text": [
      "0 is Even\n",
      "1 is Odd\n",
      "2 is Even\n",
      "3 is Odd\n",
      "4 is Even\n",
      "5 is Odd\n",
      "6 is Even\n",
      "7 is Odd\n",
      "8 is Even\n",
      "9 is Odd\n",
      "10 is Even\n",
      "11 is Odd\n",
      "12 is Even\n",
      "13 is Odd\n",
      "14 is Even\n",
      "15 is Odd\n",
      "16 is Even\n",
      "17 is Odd\n",
      "18 is Even\n",
      "19 is Odd\n",
      "20 is Even\n"
     ]
    }
   ],
   "source": [
    "nums=list(range(21))\n",
    "\n",
    "def isEven(number):\n",
    "    return \"Even\" if number % 2 == 0 else \"Odd\"\n",
    "\n",
    "for n in nums:\n",
    "    print(f\"{n} is {isEven(n)}\")"
   ]
  },
  {
   "cell_type": "markdown",
   "id": "dbcc67a1",
   "metadata": {},
   "source": [
    "4. Write a program to check if a string is a palindrome or not."
   ]
  },
  {
   "cell_type": "code",
   "execution_count": 30,
   "id": "4644e31d",
   "metadata": {},
   "outputs": [
    {
     "name": "stdout",
     "output_type": "stream",
     "text": [
      "True True\n",
      "True True\n",
      "False False\n"
     ]
    }
   ],
   "source": [
    "def isPalindrome(word):\n",
    "    startInd = 0\n",
    "    endInd = len(word) - 1\n",
    "    \n",
    "    while startInd < endInd:\n",
    "        if word[startInd] != word[endInd]:\n",
    "            return(False)\n",
    "        startInd+=1\n",
    "        endInd-=1\n",
    "    return(True)\n",
    "\n",
    "def isPalindrome2(word):\n",
    "    return word == word[::-1]\n",
    "        \n",
    "print(isPalindrome(\"tacocat\"), isPalindrome2(\"tacocat\"))\n",
    "print(isPalindrome(\"tacoocat\"), isPalindrome2(\"tacoocat\"))\n",
    "print(isPalindrome(\"ta\"), isPalindrome2(\"ta\"))"
   ]
  },
  {
   "cell_type": "markdown",
   "id": "f43737a7",
   "metadata": {},
   "source": [
    "5. Write a function *sum_of_integers(a, b)* that takes two integers as input from the user and returns their sum."
   ]
  },
  {
   "cell_type": "code",
   "execution_count": 34,
   "id": "a3e48964",
   "metadata": {},
   "outputs": [
    {
     "name": "stdout",
     "output_type": "stream",
     "text": [
      "127123261\n"
     ]
    }
   ],
   "source": [
    "def sumOfIntegers(a, b):\n",
    "    return a+b\n",
    "\n",
    "a = int(input(\"First integer: \"))\n",
    "b = int(input(\"Second integer: \"))\n",
    "\n",
    "print(sumOfIntegers(a, b))"
   ]
  }
 ],
 "metadata": {
  "kernelspec": {
   "display_name": "Python 3",
   "language": "python",
   "name": "python3"
  },
  "language_info": {
   "codemirror_mode": {
    "name": "ipython",
    "version": 3
   },
   "file_extension": ".py",
   "mimetype": "text/x-python",
   "name": "python",
   "nbconvert_exporter": "python",
   "pygments_lexer": "ipython3",
   "version": "3.11.9"
  }
 },
 "nbformat": 4,
 "nbformat_minor": 5
}
